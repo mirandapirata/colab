{
  "cells": [
    {
      "cell_type": "markdown",
      "metadata": {
        "id": "Tce3stUlHN0L"
      },
      "source": [
        "Pi - 2025 1° quad"
      ]
    },
    {
      "cell_type": "code",
      "source": [
        "# @title 25/04/25\n",
        "import re\n",
        "\n",
        "regex = r\"[-'a-zA-ZÀ-ÖØ-öø-ÿ0-9]+\"\n",
        "\n",
        "\n",
        "def main():\n",
        "  content = open( '/letra.txt', 'r').read()\n",
        "  Words = re.findall(regex, content)\n",
        "  Edges = dict([])\n",
        "\n",
        "  # contando a frequencia dos pares de palavras\n",
        "  for i in range(len(Words) - 1):\n",
        "    edge = (Words[i], Words[i + 1])\n",
        "    if edge not in Edges:\n",
        "      Edges[edge] = 0\n",
        "    Edges[edge] += 1\n",
        "\n",
        "\n",
        "# criando o grafo direcionado (digraph)\n",
        "  txtGraph = \"digraph{\\n\"\n",
        "  for v in Edges.keys():\n",
        "    if Edges[v] >= 4:  # apenas arestas com peso maior ou igual a 4\n",
        "      txtGraph += f' \"{v[0]}\" -> \"{v[1]}\"[label=\"{Edges[v]}\"]\\n'\n",
        "      txtGraph += \"}\"\n",
        "\n",
        "  print(txtGraph)\n",
        "\n",
        "main()"
      ],
      "metadata": {
        "colab": {
          "base_uri": "https://localhost:8080/"
        },
        "id": "3L-hc9Vp5dnG",
        "outputId": "2c058109-8d11-4c3b-c05b-1db0d9fd498b"
      },
      "execution_count": 4,
      "outputs": [
        {
          "output_type": "stream",
          "name": "stdout",
          "text": [
            "digraph{\n",
            " \"Because\" -> \"I'm\"[label=\"24\"]\n",
            "} \"I'm\" -> \"happy\"[label=\"24\"]\n",
            "} \"happy\" -> \"Clap\"[label=\"24\"]\n",
            "} \"Clap\" -> \"along\"[label=\"24\"]\n",
            "} \"along\" -> \"if\"[label=\"24\"]\n",
            "} \"if\" -> \"you\"[label=\"24\"]\n",
            "} \"you\" -> \"feel\"[label=\"18\"]\n",
            "} \"feel\" -> \"like\"[label=\"18\"]\n",
            "} \"like\" -> \"a\"[label=\"6\"]\n",
            "} \"a\" -> \"room\"[label=\"6\"]\n",
            "} \"room\" -> \"without\"[label=\"6\"]\n",
            "} \"without\" -> \"a\"[label=\"6\"]\n",
            "} \"a\" -> \"roof\"[label=\"6\"]\n",
            "} \"roof\" -> \"Because\"[label=\"6\"]\n",
            "} \"like\" -> \"happiness\"[label=\"6\"]\n",
            "} \"happiness\" -> \"is\"[label=\"12\"]\n",
            "} \"is\" -> \"the\"[label=\"6\"]\n",
            "} \"the\" -> \"truth\"[label=\"6\"]\n",
            "} \"truth\" -> \"Because\"[label=\"6\"]\n",
            "} \"you\" -> \"know\"[label=\"6\"]\n",
            "} \"know\" -> \"what\"[label=\"6\"]\n",
            "} \"what\" -> \"happiness\"[label=\"6\"]\n",
            "} \"is\" -> \"to\"[label=\"6\"]\n",
            "} \"to\" -> \"you\"[label=\"7\"]\n",
            "} \"you\" -> \"Because\"[label=\"6\"]\n",
            "} \"like\" -> \"that's\"[label=\"6\"]\n",
            "} \"that's\" -> \"what\"[label=\"6\"]\n",
            "} \"what\" -> \"you\"[label=\"6\"]\n",
            "} \"you\" -> \"wanna\"[label=\"6\"]\n",
            "} \"wanna\" -> \"do\"[label=\"6\"]\n",
            "} \"bring\" -> \"me\"[label=\"12\"]\n",
            "} \"me\" -> \"down\"[label=\"12\"]\n",
            "} \"down\" -> \"Can\"[label=\"6\"]\n",
            "} \"Can\" -> \"nothing\"[label=\"6\"]\n",
            "} \"nothing\" -> \"happy\"[label=\"4\"]\n",
            "} \"happy\" -> \"bring\"[label=\"5\"]\n",
            "}\n"
          ]
        }
      ]
    },
    {
      "cell_type": "code",
      "source": [
        "def fibonacci(n: int) -> int:\n",
        "\n",
        "  if n==0 or n==1:\n",
        "    return n\n",
        "  if n<0:\n",
        "    return int((-1)**(n+1)) * fibonacci(-1*n)\n",
        "  else:\n",
        "    return fibonacci(n-1) + fibonacci(n-2)"
      ],
      "metadata": {
        "id": "B6YgqxFc7kh7"
      },
      "execution_count": 5,
      "outputs": []
    },
    {
      "cell_type": "code",
      "source": [
        "def soma_elementos( lista:list ) -> int:\n",
        "\n",
        "    if len(lista)==0:\n",
        "        return 0\n",
        "    else:\n",
        "        return lista[-1] + soma_elementos( lista[:-1] )"
      ],
      "metadata": {
        "id": "NCEkZYFKB2xs"
      },
      "execution_count": 6,
      "outputs": []
    }
  ],
  "metadata": {
    "colab": {
      "name": "Prompting_REST.ipynb",
      "toc_visible": true,
      "provenance": []
    },
    "kernelspec": {
      "display_name": "Python 3",
      "name": "python3"
    }
  },
  "nbformat": 4,
  "nbformat_minor": 0
}