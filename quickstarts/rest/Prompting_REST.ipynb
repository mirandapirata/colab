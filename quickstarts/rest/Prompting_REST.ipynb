{
  "cells": [
    {
      "cell_type": "markdown",
      "metadata": {
        "id": "Tce3stUlHN0L"
      },
      "source": [
        "Pi - 2025 1° quad"
      ]
    },
    {
      "cell_type": "code",
      "source": [
        "# @title 25/04/25\n",
        "import re\n",
        "\n",
        "regex = r\"[-'a-zA-ZÀ-ÖØ-öø-ÿ0-9]+\"\n",
        "\n",
        "\n",
        "def main():\n",
        "  content = open( '/letra.txt', 'r').read()\n",
        "  Words = re.findall(regex, content)\n",
        "  Edges = dict([])\n",
        "\n",
        "  # contando a frequencia dos pares de palavras\n",
        "  for i in range(len(Words) - 1):\n",
        "    edge = (Words[i], Words[i + 1])\n",
        "    if edge not in Edges:\n",
        "      Edges[edge] = 0\n",
        "    Edges[edge] += 1\n",
        "\n",
        "\n",
        "# criando o grafo direcionado (digraph)\n",
        "  txtGraph = \"digraph{\\n\"\n",
        "  for v in Edges.keys():\n",
        "    if Edges[v] >= 4:  # apenas arestas com peso maior ou igual a 4\n",
        "      txtGraph += f' \"{v[0]}\" -> \"{v[1]}\"[label=\"{Edges[v]}\"]\\n'\n",
        "      txtGraph += \"}\"\n",
        "\n",
        "  print(txtGraph)\n",
        "\n",
        "main()"
      ],
      "metadata": {
        "colab": {
          "base_uri": "https://localhost:8080/"
        },
        "id": "3L-hc9Vp5dnG",
        "outputId": "2c058109-8d11-4c3b-c05b-1db0d9fd498b"
      },
      "execution_count": null,
      "outputs": [
        {
          "output_type": "stream",
          "name": "stdout",
          "text": [
            "digraph{\n",
            " \"Because\" -> \"I'm\"[label=\"24\"]\n",
            "} \"I'm\" -> \"happy\"[label=\"24\"]\n",
            "} \"happy\" -> \"Clap\"[label=\"24\"]\n",
            "} \"Clap\" -> \"along\"[label=\"24\"]\n",
            "} \"along\" -> \"if\"[label=\"24\"]\n",
            "} \"if\" -> \"you\"[label=\"24\"]\n",
            "} \"you\" -> \"feel\"[label=\"18\"]\n",
            "} \"feel\" -> \"like\"[label=\"18\"]\n",
            "} \"like\" -> \"a\"[label=\"6\"]\n",
            "} \"a\" -> \"room\"[label=\"6\"]\n",
            "} \"room\" -> \"without\"[label=\"6\"]\n",
            "} \"without\" -> \"a\"[label=\"6\"]\n",
            "} \"a\" -> \"roof\"[label=\"6\"]\n",
            "} \"roof\" -> \"Because\"[label=\"6\"]\n",
            "} \"like\" -> \"happiness\"[label=\"6\"]\n",
            "} \"happiness\" -> \"is\"[label=\"12\"]\n",
            "} \"is\" -> \"the\"[label=\"6\"]\n",
            "} \"the\" -> \"truth\"[label=\"6\"]\n",
            "} \"truth\" -> \"Because\"[label=\"6\"]\n",
            "} \"you\" -> \"know\"[label=\"6\"]\n",
            "} \"know\" -> \"what\"[label=\"6\"]\n",
            "} \"what\" -> \"happiness\"[label=\"6\"]\n",
            "} \"is\" -> \"to\"[label=\"6\"]\n",
            "} \"to\" -> \"you\"[label=\"7\"]\n",
            "} \"you\" -> \"Because\"[label=\"6\"]\n",
            "} \"like\" -> \"that's\"[label=\"6\"]\n",
            "} \"that's\" -> \"what\"[label=\"6\"]\n",
            "} \"what\" -> \"you\"[label=\"6\"]\n",
            "} \"you\" -> \"wanna\"[label=\"6\"]\n",
            "} \"wanna\" -> \"do\"[label=\"6\"]\n",
            "} \"bring\" -> \"me\"[label=\"12\"]\n",
            "} \"me\" -> \"down\"[label=\"12\"]\n",
            "} \"down\" -> \"Can\"[label=\"6\"]\n",
            "} \"Can\" -> \"nothing\"[label=\"6\"]\n",
            "} \"nothing\" -> \"happy\"[label=\"4\"]\n",
            "} \"happy\" -> \"bring\"[label=\"5\"]\n",
            "}\n"
          ]
        }
      ]
    },
    {
      "cell_type": "code",
      "source": [
        "def fibonacci(n: int) -> int:\n",
        "\n",
        "  if n==0 or n==1:\n",
        "    return n\n",
        "  if n<0:\n",
        "    return int((-1)**(n+1)) * fibonacci(-1*n)\n",
        "  else:\n",
        "    return fibonacci(n-1) + fibonacci(n-2)"
      ],
      "metadata": {
        "id": "B6YgqxFc7kh7"
      },
      "execution_count": null,
      "outputs": []
    },
    {
      "cell_type": "code",
      "source": [
        "def soma_elementos( lista:list ) -> int:\n",
        "\n",
        "    if len(lista)==0:\n",
        "        return 0\n",
        "    else:\n",
        "        return lista[-1] + soma_elementos( lista[:-1] )"
      ],
      "metadata": {
        "id": "NCEkZYFKB2xs"
      },
      "execution_count": null,
      "outputs": []
    },
    {
      "cell_type": "code",
      "source": [
        "def quick_sort_fixo(lista):\n",
        "    if len(lista) <= 1:\n",
        "        return lista\n",
        "\n",
        "    # Escolhe o último elemento como pivô\n",
        "    pivo = lista[-1]\n",
        "    menores = []\n",
        "    iguais = []\n",
        "    maiores = []\n",
        "\n",
        "    # Percorre a lista separando em menores, iguais e maiores\n",
        "    for elemento in lista:\n",
        "        if elemento < pivo:\n",
        "            menores.append(elemento)\n",
        "        elif elemento == pivo:\n",
        "            iguais.append(elemento)\n",
        "        else:\n",
        "            maiores.append(elemento)\n",
        "\n",
        "    # Aplica recursivamente em menores e maiores\n",
        "    return quick_sort_fixo(menores) + iguais + quick_sort_fixo(maiores)\n",
        "\n",
        "# Exemplo de uso\n",
        "vetor = [8, 3, 7, 4, 9, 2, 6, 5]\n",
        "print(quick_sort_fixo(vetor))"
      ],
      "metadata": {
        "colab": {
          "base_uri": "https://localhost:8080/"
        },
        "id": "JkzBZIbarzbO",
        "outputId": "631c58ea-1757-41d9-e976-544c8fb22220"
      },
      "execution_count": 1,
      "outputs": [
        {
          "output_type": "stream",
          "name": "stdout",
          "text": [
            "[2, 3, 4, 5, 6, 7, 8, 9]\n"
          ]
        }
      ]
    },
    {
      "cell_type": "code",
      "source": [
        "import random\n",
        "\n",
        "def quick_sort_aleatorio(lista):\n",
        "    if len(lista) <= 1:\n",
        "        return lista\n",
        "\n",
        "    # Escolhe um pivô aleatório\n",
        "    pivo = random.choice(lista)\n",
        "    menores = []\n",
        "    iguais = []\n",
        "    maiores = []\n",
        "\n",
        "    # Percorre a lista separando em menores, iguais e maiores\n",
        "    for elemento in lista:\n",
        "        if elemento < pivo:\n",
        "            menores.append(elemento)\n",
        "        elif elemento == pivo:\n",
        "            iguais.append(elemento)\n",
        "        else:\n",
        "            maiores.append(elemento)\n",
        "\n",
        "    # Aplica recursivamente em menores e maiores\n",
        "    return quick_sort_aleatorio(menores) + iguais + quick_sort_aleatorio(maiores)\n",
        "\n",
        "# Exemplo de uso\n",
        "vetor = [8, 3, 7, 4, 9, 2, 6, 5]\n",
        "print(quick_sort_aleatorio(vetor))"
      ],
      "metadata": {
        "colab": {
          "base_uri": "https://localhost:8080/"
        },
        "id": "nAHKO-lNsWV8",
        "outputId": "3eab1242-6752-40b7-cecd-047554610b94"
      },
      "execution_count": 2,
      "outputs": [
        {
          "output_type": "stream",
          "name": "stdout",
          "text": [
            "[2, 3, 4, 5, 6, 7, 8, 9]\n"
          ]
        }
      ]
    },
    {
      "cell_type": "code",
      "source": [
        "import random\n",
        "import time\n",
        "\n",
        "# Função de Quick Sort com pivô fixo (último elemento)\n",
        "def quick_sort_fixo(lista):\n",
        "    if len(lista) <= 1:\n",
        "        return lista\n",
        "\n",
        "    pivo = lista[-1]\n",
        "    menores = []\n",
        "    iguais = []\n",
        "    maiores = []\n",
        "\n",
        "    for elemento in lista:\n",
        "        if elemento < pivo:\n",
        "            menores.append(elemento)\n",
        "        elif elemento == pivo:\n",
        "            iguais.append(elemento)\n",
        "        else:\n",
        "            maiores.append(elemento)\n",
        "\n",
        "    return quick_sort_fixo(menores) + iguais + quick_sort_fixo(maiores)\n",
        "\n",
        "# Função de Quick Sort com pivô aleatório\n",
        "def quick_sort_aleatorio(lista):\n",
        "    if len(lista) <= 1:\n",
        "        return lista\n",
        "\n",
        "    pivo = random.choice(lista)\n",
        "    menores = []\n",
        "    iguais = []\n",
        "    maiores = []\n",
        "\n",
        "    for elemento in lista:\n",
        "        if elemento < pivo:\n",
        "            menores.append(elemento)\n",
        "        elif elemento == pivo:\n",
        "            iguais.append(elemento)\n",
        "        else:\n",
        "            maiores.append(elemento)\n",
        "\n",
        "    return quick_sort_aleatorio(menores) + iguais + quick_sort_aleatorio(maiores)\n",
        "\n",
        "# Função para medir tempo de execução\n",
        "def medir_tempo(funcao, lista):\n",
        "    inicio = time.time()\n",
        "    funcao(lista)\n",
        "    fim = time.time()\n",
        "    return fim - inicio\n",
        "\n",
        "# Gera listas de 1000 elementos para evitar RecursionError\n",
        "lista_crescente = list(range(500))\n",
        "lista_decrescente = list(range(499, -1, -1))\n",
        "lista_aleatoria = random.sample(range(500), 500)\n",
        "\n",
        "# Comparação de tempo de execução\n",
        "print(\"Tempo com Quick Sort (Pivô Último) - Lista Crescente:\", medir_tempo(quick_sort_fixo, lista_crescente), \"segundos\")\n",
        "print(\"Tempo com Quick Sort (Pivô Aleatório) - Lista Crescente:\", medir_tempo(quick_sort_aleatorio, lista_crescente), \"segundos\\n\")\n",
        "\n",
        "print(\"Tempo com Quick Sort (Pivô Último) - Lista Decrescente:\", medir_tempo(quick_sort_fixo, lista_decrescente), \"segundos\")\n",
        "print(\"Tempo com Quick Sort (Pivô Aleatório) - Lista Decrescente:\", medir_tempo(quick_sort_aleatorio, lista_decrescente), \"segundos\\n\")\n",
        "\n",
        "print(\"Tempo com Quick Sort (Pivô Último) - Lista Aleatória:\", medir_tempo(quick_sort_fixo, lista_aleatoria), \"segundos\")\n",
        "print(\"Tempo com Quick Sort (Pivô Aleatório) - Lista Aleatória:\", medir_tempo(quick_sort_aleatorio, lista_aleatoria), \"segundos\\n\")"
      ],
      "metadata": {
        "colab": {
          "base_uri": "https://localhost:8080/"
        },
        "id": "ygRHsX91vGG_",
        "outputId": "41ae7d74-a2be-4523-c94f-8aa5055b45a4"
      },
      "execution_count": 3,
      "outputs": [
        {
          "output_type": "stream",
          "name": "stdout",
          "text": [
            "Tempo com Quick Sort (Pivô Último) - Lista Crescente: 0.009349584579467773 segundos\n",
            "Tempo com Quick Sort (Pivô Aleatório) - Lista Crescente: 0.0005834102630615234 segundos\n",
            "\n",
            "Tempo com Quick Sort (Pivô Último) - Lista Decrescente: 0.00876307487487793 segundos\n",
            "Tempo com Quick Sort (Pivô Aleatório) - Lista Decrescente: 0.0005440711975097656 segundos\n",
            "\n",
            "Tempo com Quick Sort (Pivô Último) - Lista Aleatória: 0.00046753883361816406 segundos\n",
            "Tempo com Quick Sort (Pivô Aleatório) - Lista Aleatória: 0.0005600452423095703 segundos\n",
            "\n"
          ]
        }
      ]
    },
    {
      "cell_type": "code",
      "source": [
        "import matplotlib.pyplot as plt\n",
        "import matplotlib.image as mpimg\n",
        "\n",
        "# Leitura da fotografia\n",
        "foto = mpimg.imread('/foto0.png')\n",
        "linhas  = len(foto)\n",
        "colunas = len(foto[0])\n",
        "\n",
        "# Inserimos linhas pretas a cada 10 pixels\n",
        "for i in range(linhas):\n",
        "    for j in range(colunas):\n",
        "        if i%10==0:\n",
        "            foto[i,j] = [0, 0, 0]\n",
        "\n",
        "# Visualizar a fotografia\n",
        "plt.imshow(foto)\n",
        "plt.show()"
      ],
      "metadata": {
        "colab": {
          "base_uri": "https://localhost:8080/",
          "height": 356
        },
        "id": "k_sTb5WXxbq6",
        "outputId": "1b58c611-29ae-4cad-b0a0-0832d48400c6"
      },
      "execution_count": 4,
      "outputs": [
        {
          "output_type": "error",
          "ename": "FileNotFoundError",
          "evalue": "[Errno 2] No such file or directory: 'foto0.png'",
          "traceback": [
            "\u001b[0;31m---------------------------------------------------------------------------\u001b[0m",
            "\u001b[0;31mFileNotFoundError\u001b[0m                         Traceback (most recent call last)",
            "\u001b[0;32m<ipython-input-4-3723e042c521>\u001b[0m in \u001b[0;36m<cell line: 0>\u001b[0;34m()\u001b[0m\n\u001b[1;32m      3\u001b[0m \u001b[0;34m\u001b[0m\u001b[0m\n\u001b[1;32m      4\u001b[0m \u001b[0;31m# Leitura da fotografia\u001b[0m\u001b[0;34m\u001b[0m\u001b[0;34m\u001b[0m\u001b[0m\n\u001b[0;32m----> 5\u001b[0;31m \u001b[0mfoto\u001b[0m \u001b[0;34m=\u001b[0m \u001b[0mmpimg\u001b[0m\u001b[0;34m.\u001b[0m\u001b[0mimread\u001b[0m\u001b[0;34m(\u001b[0m\u001b[0;34m'foto0.png'\u001b[0m\u001b[0;34m)\u001b[0m\u001b[0;34m\u001b[0m\u001b[0;34m\u001b[0m\u001b[0m\n\u001b[0m\u001b[1;32m      6\u001b[0m \u001b[0mlinhas\u001b[0m  \u001b[0;34m=\u001b[0m \u001b[0mlen\u001b[0m\u001b[0;34m(\u001b[0m\u001b[0mfoto\u001b[0m\u001b[0;34m)\u001b[0m\u001b[0;34m\u001b[0m\u001b[0;34m\u001b[0m\u001b[0m\n\u001b[1;32m      7\u001b[0m \u001b[0mcolunas\u001b[0m \u001b[0;34m=\u001b[0m \u001b[0mlen\u001b[0m\u001b[0;34m(\u001b[0m\u001b[0mfoto\u001b[0m\u001b[0;34m[\u001b[0m\u001b[0;36m0\u001b[0m\u001b[0;34m]\u001b[0m\u001b[0;34m)\u001b[0m\u001b[0;34m\u001b[0m\u001b[0;34m\u001b[0m\u001b[0m\n",
            "\u001b[0;32m/usr/local/lib/python3.11/dist-packages/matplotlib/image.py\u001b[0m in \u001b[0;36mimread\u001b[0;34m(fname, format)\u001b[0m\n\u001b[1;32m   1500\u001b[0m             \u001b[0;34m\"``np.array(PIL.Image.open(urllib.request.urlopen(url)))``.\"\u001b[0m\u001b[0;34m\u001b[0m\u001b[0;34m\u001b[0m\u001b[0m\n\u001b[1;32m   1501\u001b[0m             )\n\u001b[0;32m-> 1502\u001b[0;31m     \u001b[0;32mwith\u001b[0m \u001b[0mimg_open\u001b[0m\u001b[0;34m(\u001b[0m\u001b[0mfname\u001b[0m\u001b[0;34m)\u001b[0m \u001b[0;32mas\u001b[0m \u001b[0mimage\u001b[0m\u001b[0;34m:\u001b[0m\u001b[0;34m\u001b[0m\u001b[0;34m\u001b[0m\u001b[0m\n\u001b[0m\u001b[1;32m   1503\u001b[0m         return (_pil_png_to_float_array(image)\n\u001b[1;32m   1504\u001b[0m                 \u001b[0;32mif\u001b[0m \u001b[0misinstance\u001b[0m\u001b[0;34m(\u001b[0m\u001b[0mimage\u001b[0m\u001b[0;34m,\u001b[0m \u001b[0mPIL\u001b[0m\u001b[0;34m.\u001b[0m\u001b[0mPngImagePlugin\u001b[0m\u001b[0;34m.\u001b[0m\u001b[0mPngImageFile\u001b[0m\u001b[0;34m)\u001b[0m \u001b[0;32melse\u001b[0m\u001b[0;34m\u001b[0m\u001b[0;34m\u001b[0m\u001b[0m\n",
            "\u001b[0;32m/usr/local/lib/python3.11/dist-packages/PIL/ImageFile.py\u001b[0m in \u001b[0;36m__init__\u001b[0;34m(self, fp, filename)\u001b[0m\n\u001b[1;32m    133\u001b[0m         \u001b[0;32mif\u001b[0m \u001b[0mis_path\u001b[0m\u001b[0;34m(\u001b[0m\u001b[0mfp\u001b[0m\u001b[0;34m)\u001b[0m\u001b[0;34m:\u001b[0m\u001b[0;34m\u001b[0m\u001b[0;34m\u001b[0m\u001b[0m\n\u001b[1;32m    134\u001b[0m             \u001b[0;31m# filename\u001b[0m\u001b[0;34m\u001b[0m\u001b[0;34m\u001b[0m\u001b[0m\n\u001b[0;32m--> 135\u001b[0;31m             \u001b[0mself\u001b[0m\u001b[0;34m.\u001b[0m\u001b[0mfp\u001b[0m \u001b[0;34m=\u001b[0m \u001b[0mopen\u001b[0m\u001b[0;34m(\u001b[0m\u001b[0mfp\u001b[0m\u001b[0;34m,\u001b[0m \u001b[0;34m\"rb\"\u001b[0m\u001b[0;34m)\u001b[0m\u001b[0;34m\u001b[0m\u001b[0;34m\u001b[0m\u001b[0m\n\u001b[0m\u001b[1;32m    136\u001b[0m             \u001b[0mself\u001b[0m\u001b[0;34m.\u001b[0m\u001b[0mfilename\u001b[0m \u001b[0;34m=\u001b[0m \u001b[0mos\u001b[0m\u001b[0;34m.\u001b[0m\u001b[0mfspath\u001b[0m\u001b[0;34m(\u001b[0m\u001b[0mfp\u001b[0m\u001b[0;34m)\u001b[0m\u001b[0;34m\u001b[0m\u001b[0;34m\u001b[0m\u001b[0m\n\u001b[1;32m    137\u001b[0m             \u001b[0mself\u001b[0m\u001b[0;34m.\u001b[0m\u001b[0m_exclusive_fp\u001b[0m \u001b[0;34m=\u001b[0m \u001b[0;32mTrue\u001b[0m\u001b[0;34m\u001b[0m\u001b[0;34m\u001b[0m\u001b[0m\n",
            "\u001b[0;31mFileNotFoundError\u001b[0m: [Errno 2] No such file or directory: 'foto0.png'"
          ]
        }
      ]
    }
  ],
  "metadata": {
    "colab": {
      "name": "Prompting_REST.ipynb",
      "toc_visible": true,
      "provenance": []
    },
    "kernelspec": {
      "display_name": "Python 3",
      "name": "python3"
    }
  },
  "nbformat": 4,
  "nbformat_minor": 0
}